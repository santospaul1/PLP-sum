{
 "cells": [
  {
   "cell_type": "markdown",
   "id": "77cbe954",
   "metadata": {},
   "source": [
    "# 🧠 CORD-19 Research Metadata Analysis\n",
    "Author: **Santos Paul Amiani**\n",
    "\n",
    "This notebook explores and visualizes metadata from the CORD-19 dataset."
   ]
  },
  {
   "cell_type": "code",
   "execution_count": null,
   "id": "3551df74",
   "metadata": {},
   "outputs": [],
   "source": [
    "\n",
    "# --- PART 1: Import Libraries and Load Data ---\n",
    "import pandas as pd\n",
    "import matplotlib.pyplot as plt\n",
    "import seaborn as sns\n",
    "from wordcloud import WordCloud\n",
    "\n",
    "# Load dataset\n",
    "df = pd.read_csv('metadata.csv')\n",
    "\n",
    "print(\"✅ Dataset Loaded Successfully!\")\n",
    "print(\"Shape:\", df.shape)\n",
    "df.head()\n"
   ]
  },
  {
   "cell_type": "code",
   "execution_count": null,
   "id": "5c4732a1",
   "metadata": {},
   "outputs": [],
   "source": [
    "\n",
    "# --- PART 2: Basic Exploration ---\n",
    "print(\"Data Info:\")\n",
    "print(df.info())\n",
    "\n",
    "print(\"\\nMissing Values (Top 15 Columns):\")\n",
    "print(df.isnull().sum().sort_values(ascending=False).head(15))\n",
    "\n",
    "print(\"\\nSummary Statistics:\")\n",
    "print(df.describe())\n"
   ]
  },
  {
   "cell_type": "code",
   "execution_count": null,
   "id": "198e0492",
   "metadata": {},
   "outputs": [],
   "source": [
    "\n",
    "# --- PART 3: Data Cleaning and Preparation ---\n",
    "df_clean = df.dropna(subset=['title', 'publish_time'])\n",
    "df_clean['publish_time'] = pd.to_datetime(df_clean['publish_time'], errors='coerce')\n",
    "df_clean['year'] = df_clean['publish_time'].dt.year\n",
    "df_clean['abstract_word_count'] = df_clean['abstract'].fillna('').apply(lambda x: len(x.split()))\n",
    "print(\"✅ Cleaned Data Summary:\")\n",
    "print(df_clean.info())\n"
   ]
  },
  {
   "cell_type": "code",
   "execution_count": null,
   "id": "77fee206",
   "metadata": {},
   "outputs": [],
   "source": [
    "\n",
    "# --- PART 4: Publications by Year ---\n",
    "plt.figure(figsize=(8, 5))\n",
    "year_counts = df_clean['year'].value_counts().sort_index()\n",
    "sns.barplot(x=year_counts.index, y=year_counts.values)\n",
    "plt.title('Publications by Year')\n",
    "plt.xlabel('Year')\n",
    "plt.ylabel('Number of Publications')\n",
    "plt.xticks(rotation=45)\n",
    "plt.show()\n"
   ]
  },
  {
   "cell_type": "code",
   "execution_count": null,
   "id": "54d5456b",
   "metadata": {},
   "outputs": [],
   "source": [
    "\n",
    "# --- PART 5: Top Journals Publishing COVID-19 Research ---\n",
    "top_journals = df_clean['journal'].value_counts().head(10)\n",
    "plt.figure(figsize=(8, 5))\n",
    "sns.barplot(y=top_journals.index, x=top_journals.values)\n",
    "plt.title('Top 10 Journals Publishing COVID-19 Research')\n",
    "plt.xlabel('Number of Publications')\n",
    "plt.ylabel('Journal')\n",
    "plt.show()\n"
   ]
  },
  {
   "cell_type": "code",
   "execution_count": null,
   "id": "20228767",
   "metadata": {},
   "outputs": [],
   "source": [
    "\n",
    "# --- PART 6: Word Cloud of Paper Titles ---\n",
    "text = ' '.join(df_clean['title'].dropna())\n",
    "wordcloud = WordCloud(width=800, height=400, background_color='white').generate(text)\n",
    "plt.figure(figsize=(10, 5))\n",
    "plt.imshow(wordcloud, interpolation='bilinear')\n",
    "plt.axis('off')\n",
    "plt.title('Most Frequent Words in Paper Titles')\n",
    "plt.show()\n"
   ]
  },
  {
   "cell_type": "code",
   "execution_count": null,
   "id": "d207b6f8",
   "metadata": {},
   "outputs": [],
   "source": [
    "\n",
    "# --- PART 7: Paper Counts by Source ---\n",
    "source_counts = df_clean['source_x'].value_counts().head(10)\n",
    "plt.figure(figsize=(8, 5))\n",
    "sns.barplot(y=source_counts.index, x=source_counts.values)\n",
    "plt.title('Top 10 Sources of Papers')\n",
    "plt.xlabel('Number of Papers')\n",
    "plt.ylabel('Source')\n",
    "plt.show()\n"
   ]
  },
  {
   "cell_type": "code",
   "execution_count": null,
   "id": "4ba603fe",
   "metadata": {},
   "outputs": [],
   "source": [
    "\n",
    "# --- PART 8: Save Cleaned Dataset ---\n",
    "df_clean.to_csv('metadata_cleaned.csv', index=False)\n",
    "print(\"✅ Cleaned dataset saved as 'metadata_cleaned.csv'\")\n"
   ]
  },
  {
   "cell_type": "markdown",
   "id": "ef04fd24",
   "metadata": {},
   "source": [
    "\n",
    "## 🧩 Reflections\n",
    "\n",
    "- Publications increased significantly after 2020 due to the global COVID-19 response.  \n",
    "- Major journals such as *medRxiv* and *bioRxiv* contributed heavily.  \n",
    "- Frequent keywords include 'COVID-19', 'SARS-CoV-2', and 'infection'.  \n",
    "- Handling missing data and cleaning publication dates were key challenges.  \n",
    "- This project strengthened understanding of data cleaning, visualization, and storytelling.\n"
   ]
  }
 ],
 "metadata": {},
 "nbformat": 4,
 "nbformat_minor": 5
}
